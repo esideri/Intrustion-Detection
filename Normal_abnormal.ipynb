{
 "cells": [
  {
   "cell_type": "code",
   "execution_count": 11,
   "metadata": {
    "collapsed": false
   },
   "outputs": [],
   "source": [
    "import pandas as pd\n",
    "from sklearn.model_selection import train_test_split\n",
    "from sklearn.ensemble import RandomForestClassifier"
   ]
  },
  {
   "cell_type": "code",
   "execution_count": 14,
   "metadata": {
    "collapsed": false
   },
   "outputs": [
    {
     "data": {
      "text/html": [
       "<div>\n",
       "<table border=\"1\" class=\"dataframe\">\n",
       "  <thead>\n",
       "    <tr style=\"text-align: right;\">\n",
       "      <th></th>\n",
       "      <th>F1</th>\n",
       "      <th>F2</th>\n",
       "      <th>F3</th>\n",
       "      <th>F4</th>\n",
       "      <th>F5</th>\n",
       "      <th>F6</th>\n",
       "      <th>F7</th>\n",
       "      <th>F8</th>\n",
       "      <th>F9</th>\n",
       "      <th>Class</th>\n",
       "    </tr>\n",
       "  </thead>\n",
       "  <tbody>\n",
       "    <tr>\n",
       "      <th>0</th>\n",
       "      <td>744</td>\n",
       "      <td>156</td>\n",
       "      <td>5</td>\n",
       "      <td>30</td>\n",
       "      <td>63</td>\n",
       "      <td>99</td>\n",
       "      <td>114</td>\n",
       "      <td>32</td>\n",
       "      <td>122</td>\n",
       "      <td>Abnormal</td>\n",
       "    </tr>\n",
       "    <tr>\n",
       "      <th>1</th>\n",
       "      <td>603</td>\n",
       "      <td>87</td>\n",
       "      <td>5</td>\n",
       "      <td>25</td>\n",
       "      <td>63</td>\n",
       "      <td>51</td>\n",
       "      <td>61</td>\n",
       "      <td>16</td>\n",
       "      <td>122</td>\n",
       "      <td>Abnormal</td>\n",
       "    </tr>\n",
       "    <tr>\n",
       "      <th>2</th>\n",
       "      <td>674</td>\n",
       "      <td>87</td>\n",
       "      <td>5</td>\n",
       "      <td>25</td>\n",
       "      <td>63</td>\n",
       "      <td>51</td>\n",
       "      <td>61</td>\n",
       "      <td>16</td>\n",
       "      <td>122</td>\n",
       "      <td>Abnormal</td>\n",
       "    </tr>\n",
       "    <tr>\n",
       "      <th>3</th>\n",
       "      <td>517</td>\n",
       "      <td>10</td>\n",
       "      <td>1</td>\n",
       "      <td>15</td>\n",
       "      <td>55</td>\n",
       "      <td>0</td>\n",
       "      <td>0</td>\n",
       "      <td>0</td>\n",
       "      <td>126</td>\n",
       "      <td>Abnormal</td>\n",
       "    </tr>\n",
       "    <tr>\n",
       "      <th>4</th>\n",
       "      <td>648</td>\n",
       "      <td>128</td>\n",
       "      <td>5</td>\n",
       "      <td>33</td>\n",
       "      <td>67</td>\n",
       "      <td>81</td>\n",
       "      <td>99</td>\n",
       "      <td>19</td>\n",
       "      <td>122</td>\n",
       "      <td>Abnormal</td>\n",
       "    </tr>\n",
       "  </tbody>\n",
       "</table>\n",
       "</div>"
      ],
      "text/plain": [
       "   F1    F2  F3  F4  F5  F6   F7  F8   F9     Class\n",
       "0  744  156   5  30  63  99  114  32  122  Abnormal\n",
       "1  603   87   5  25  63  51   61  16  122  Abnormal\n",
       "2  674   87   5  25  63  51   61  16  122  Abnormal\n",
       "3  517   10   1  15  55   0    0   0  126  Abnormal\n",
       "4  648  128   5  33  67  81   99  19  122  Abnormal"
      ]
     },
     "execution_count": 14,
     "metadata": {},
     "output_type": "execute_result"
    }
   ],
   "source": [
    "data = pd.read_csv(\"normal_and_abnormal_data.csv\")\n",
    "\n",
    "\n",
    "features = []\n",
    "for i, column in data.iterrows():\n",
    "    features.append(column[:-1].values.tolist())\n",
    "\n",
    "data.head()\n"
   ]
  },
  {
   "cell_type": "code",
   "execution_count": 19,
   "metadata": {
    "collapsed": false
   },
   "outputs": [],
   "source": [
    "pre_labels = data['Class'].values.tolist()\n",
    "\n",
    "labels = []\n",
    "for i in pre_labels:\n",
    "    if i == \"Abnormal\":\n",
    "        labels.append(1)\n",
    "    else:\n",
    "        labels.append(0)\n"
   ]
  },
  {
   "cell_type": "code",
   "execution_count": 5,
   "metadata": {
    "collapsed": false
   },
   "outputs": [
    {
     "name": "stdout",
     "output_type": "stream",
     "text": [
      "0.999450579638\n"
     ]
    }
   ],
   "source": [
    "train_x,test_x,train_y,test_y = train_test_split(features, labels, test_size= 0.3 , random_state=43)\n",
    "slf = RandomForestClassifier()\n",
    "slf.fit(train_x, train_y)\n",
    "accuracy = slf.score(test_x, test_y)\n",
    "\n",
    "print(accuracy)\n"
   ]
  },
  {
   "cell_type": "code",
   "execution_count": null,
   "metadata": {
    "collapsed": true
   },
   "outputs": [],
   "source": []
  }
 ],
 "metadata": {
  "kernelspec": {
   "display_name": "Python 3",
   "language": "python",
   "name": "python3"
  },
  "language_info": {
   "codemirror_mode": {
    "name": "ipython",
    "version": 3
   },
   "file_extension": ".py",
   "mimetype": "text/x-python",
   "name": "python",
   "nbconvert_exporter": "python",
   "pygments_lexer": "ipython3",
   "version": "3.6.0"
  }
 },
 "nbformat": 4,
 "nbformat_minor": 2
}
